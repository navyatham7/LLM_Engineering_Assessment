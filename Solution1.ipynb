{
  "nbformat": 4,
  "nbformat_minor": 0,
  "metadata": {
    "colab": {
      "provenance": [],
      "authorship_tag": "ABX9TyPXtfCqSlh5Lr89nsIvogRv",
      "include_colab_link": true
    },
    "kernelspec": {
      "name": "python3",
      "display_name": "Python 3"
    },
    "language_info": {
      "name": "python"
    }
  },
  "cells": [
    {
      "cell_type": "markdown",
      "metadata": {
        "id": "view-in-github",
        "colab_type": "text"
      },
      "source": [
        "<a href=\"https://colab.research.google.com/github/navyatham7/LLM_Engineering_Assessment/blob/main/Solution1.ipynb\" target=\"_parent\"><img src=\"https://colab.research.google.com/assets/colab-badge.svg\" alt=\"Open In Colab\"/></a>"
      ]
    },
    {
      "cell_type": "markdown",
      "source": [
        "#Can algorithms like SMOTE/ROSE which synthesize new examples from the training data be called Generative AI?\n",
        "\n"
      ],
      "metadata": {
        "id": "G-rH-XaQnmwW"
      }
    },
    {
      "cell_type": "markdown",
      "source": [
        "SMOTE (Synthetic Minority Over-sampling Technique) and ROSE (Random Over-Sampling Examples) are data augmentation techniques specifically designed to address class imbalance in datasets by generating new synthetic samples. SMOTE generates new instances by interpolating between existing minority class examples, effectively creating new data points along the lines joining these instances in the feature space. ROSE, on the other hand, generates synthetic data by adding random noise to existing examples, producing variations of the original data points. Both techniques focus on enhancing the training dataset for classification tasks and rely on relatively straightforward algorithms. In contrast, generative AI, learn the underlying distribution of the training data and generate entirely new data instances that are not direct variations of existing data. These models involve adversarial training or probabilistic sampling from latent spaces, enabling them to create high-dimensional, high-quality data across various domains such as images, text, and audio."
      ],
      "metadata": {
        "id": "CZ-MQGXgosBJ"
      }
    }
  ]
}